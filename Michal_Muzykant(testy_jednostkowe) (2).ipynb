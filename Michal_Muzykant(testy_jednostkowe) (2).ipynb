{
  "nbformat": 4,
  "nbformat_minor": 0,
  "metadata": {
    "colab": {
      "provenance": []
    },
    "kernelspec": {
      "name": "python3",
      "display_name": "Python 3"
    },
    "language_info": {
      "name": "python"
    }
  },
  "cells": [
    {
      "cell_type": "code",
      "execution_count": 1,
      "metadata": {
        "id": "6FUV3R2GVeyP"
      },
      "outputs": [],
      "source": [
        "from enum import Enum\n",
        "\n",
        "class TransactionStatus(Enum):\n",
        "    PENDING = \"PENDING\"\n",
        "    COMPLETED = \"COMPLETED\"\n",
        "    FAILED = \"FAILED\"\n",
        "\n",
        "class TransactionResult:\n",
        "    def __init__(self, success: bool, transaction_id: str, message: str = \"\"):\n",
        "        self.success = success\n",
        "        self.transaction_id = transaction_id\n",
        "        self.message = message\n",
        "\n",
        "class NetworkException(Exception):\n",
        "    pass\n",
        "\n",
        "class PaymentException(Exception):\n",
        "    pass\n",
        "\n",
        "class RefundException(Exception):\n",
        "    pass\n"
      ]
    },
    {
      "cell_type": "code",
      "source": [
        "from abc import ABC, abstractmethod\n",
        "\n",
        "class PaymentGateway(ABC):\n",
        "    @abstractmethod\n",
        "    def charge(self, user_id: str, amount: float) -> TransactionResult:\n",
        "        pass\n",
        "\n",
        "    @abstractmethod\n",
        "    def refund(self, transaction_id: str) -> TransactionResult:\n",
        "        pass\n",
        "\n",
        "    @abstractmethod\n",
        "    def get_status(self, transaction_id: str) -> TransactionStatus:\n",
        "        pass\n"
      ],
      "metadata": {
        "id": "2pMHtR7dVgKU"
      },
      "execution_count": 2,
      "outputs": []
    },
    {
      "cell_type": "code",
      "source": [
        "class PaymentProcessor:\n",
        "    def __init__(self, payment_gateway: PaymentGateway):\n",
        "        self.payment_gateway = payment_gateway\n",
        "\n",
        "    def process_payment(self, user_id: str, amount: float) -> TransactionResult:\n",
        "        if not user_id or amount <= 0:\n",
        "            raise ValueError(\"Invalid user ID or amount\")\n",
        "        try:\n",
        "            result = self.payment_gateway.charge(user_id, amount)\n",
        "            return result\n",
        "        except (NetworkException, PaymentException) as e:\n",
        "\n",
        "            return TransactionResult(success=False, transaction_id=\"\", message=str(e))\n",
        "\n",
        "    def refund_payment(self, transaction_id: str) -> TransactionResult:\n",
        "        if not transaction_id:\n",
        "            raise ValueError(\"Invalid transaction ID\")\n",
        "        try:\n",
        "            result = self.payment_gateway.refund(transaction_id)\n",
        "            return result\n",
        "        except (NetworkException, RefundException) as e:\n",
        "            # Log error if needed, handle exception\n",
        "            return TransactionResult(success=False, transaction_id=\"\", message=str(e))\n",
        "\n",
        "    def get_payment_status(self, transaction_id: str) -> TransactionStatus:\n",
        "        if not transaction_id:\n",
        "            raise ValueError(\"Invalid transaction ID\")\n",
        "        try:\n",
        "            return self.payment_gateway.get_status(transaction_id)\n",
        "        except NetworkException as e:\n",
        "            # Log error if needed, handle exception\n",
        "            return TransactionStatus.FAILED\n"
      ],
      "metadata": {
        "id": "n79l8M1eViNT"
      },
      "execution_count": 28,
      "outputs": []
    },
    {
      "cell_type": "code",
      "source": [
        "import unittest\n",
        "from unittest.mock import Mock, patch\n",
        "\n",
        "class PaymentProcessorTests(unittest.TestCase):\n",
        "    def setUp(self):\n",
        "        self.payment_gateway_mock = Mock(spec=PaymentGateway)\n",
        "        self.payment_processor = PaymentProcessor(self.payment_gateway_mock)\n",
        "\n",
        "    def test_process_payment_success(self):\n",
        "        self.payment_gateway_mock.charge.return_value = TransactionResult(success=True, transaction_id=\"12345\")\n",
        "        result = self.payment_processor.process_payment(\"noname1\", 100.0)\n",
        "        self.assertTrue(result.success)\n",
        "        self.assertEqual(result.transaction_id, \"34553\")\n",
        "        self.payment_gateway_mock.charge.assert_called_once_with(\"noname_1\", 100.0)\n",
        "\n",
        "\n",
        ""
      ],
      "metadata": {
        "id": "VeWBOyHoVkg8"
      },
      "execution_count": 7,
      "outputs": []
    },
    {
      "cell_type": "code",
      "source": [
        "import unittest\n",
        "from unittest.mock import Mock\n",
        "from enum import Enum\n",
        "\n",
        "class PaymentProcessorTests(unittest.TestCase):\n",
        "    def setUp(self):\n",
        "\n",
        "        self.payment_gateway_mock = Mock(spec=PaymentGateway)\n",
        "        self.payment_processor = PaymentProcessor(self.payment_gateway_mock)\n",
        "\n",
        "\n",
        "    def test_process_payment_success(self):\n",
        "        self.payment_gateway_mock.charge.return_value = TransactionResult(success=True, transaction_id=\"12345\")\n",
        "        result = self.payment_processor.process_payment(\"user1\", 100.0)\n",
        "        self.assertTrue(result.success)\n",
        "        self.assertEqual(result.transaction_id, \"12345\")\n",
        "\n",
        "\n",
        "unittest.main(argv=[''], verbosity=2, exit=False)\n"
      ],
      "metadata": {
        "colab": {
          "base_uri": "https://localhost:8080/"
        },
        "id": "3mCgu1lBWdjj",
        "outputId": "ef807136-3511-41a5-9881-a9cdbfcc17d0"
      },
      "execution_count": 25,
      "outputs": [
        {
          "output_type": "stream",
          "name": "stderr",
          "text": [
            "test_process_payment_success (__main__.PaymentProcessorTests) ... ok\n",
            "\n",
            "----------------------------------------------------------------------\n",
            "Ran 1 test in 0.011s\n",
            "\n",
            "OK\n"
          ]
        },
        {
          "output_type": "execute_result",
          "data": {
            "text/plain": [
              "<unittest.main.TestProgram at 0x7c96bc443670>"
            ]
          },
          "metadata": {},
          "execution_count": 25
        }
      ]
    },
    {
      "cell_type": "code",
      "source": [
        " class PaymentProcessorTests(unittest.TestCase):\n",
        "    def setUp(self):\n",
        "\n",
        "        self.payment_gateway_mock = Mock(spec=PaymentGateway)\n",
        "        self.payment_processor = PaymentProcessor(self.payment_gateway_mock)\n",
        "\n",
        "\n",
        "    def test_process_payment_success(self):\n",
        "        self.payment_gateway_mock.charge.return_value = TransactionResult(success=True, transaction_id=\"12345\")\n",
        "        result = self.payment_processor.process_payment(\"\", 100.0)\n",
        "        self.assertTrue(result.success)\n",
        "        self.assertEqual(result.transaction_id, \"12345\")\n",
        "\n",
        "\n",
        "unittest.main(argv=[''], verbosity=2, exit=False)"
      ],
      "metadata": {
        "colab": {
          "base_uri": "https://localhost:8080/"
        },
        "id": "-YGL_8NgZSJT",
        "outputId": "bda2cb5b-b01d-4a1a-c11e-77b99274de5b"
      },
      "execution_count": 29,
      "outputs": [
        {
          "output_type": "stream",
          "name": "stderr",
          "text": [
            "test_process_payment_success (__main__.PaymentProcessorTests) ... ERROR\n",
            "\n",
            "======================================================================\n",
            "ERROR: test_process_payment_success (__main__.PaymentProcessorTests)\n",
            "----------------------------------------------------------------------\n",
            "Traceback (most recent call last):\n",
            "  File \"<ipython-input-29-5beb1c047c03>\", line 10, in test_process_payment_success\n",
            "    result = self.payment_processor.process_payment(\"\", 100.0)\n",
            "  File \"<ipython-input-28-acfecc32501d>\", line 7, in process_payment\n",
            "    raise ValueError(\"Invalid user ID or amount\")\n",
            "ValueError: Invalid user ID or amount\n",
            "\n",
            "----------------------------------------------------------------------\n",
            "Ran 1 test in 0.006s\n",
            "\n",
            "FAILED (errors=1)\n"
          ]
        },
        {
          "output_type": "execute_result",
          "data": {
            "text/plain": [
              "<unittest.main.TestProgram at 0x7c96a7b12d70>"
            ]
          },
          "metadata": {},
          "execution_count": 29
        }
      ]
    },
    {
      "cell_type": "code",
      "source": [
        "class PaymentProcessorTests(unittest.TestCase):\n",
        "    def setUp(self):\n",
        "\n",
        "        self.payment_gateway_mock = Mock(spec=PaymentGateway)\n",
        "        self.payment_processor = PaymentProcessor(self.payment_gateway_mock)\n",
        "\n",
        "\n",
        "    def test_process_payment_success(self):\n",
        "        self.payment_gateway_mock.charge.return_value = TransactionResult(success=True, transaction_id=\"12345\")\n",
        "        result = self.payment_processor.process_payment(\"asdads\", 100.0)\n",
        "        self.assertTrue(result.success)\n",
        "        self.assertEqual(result.transaction_id, \"\")\n",
        "\n",
        "\n",
        "unittest.main(argv=[''], verbosity=2, exit=False)"
      ],
      "metadata": {
        "colab": {
          "base_uri": "https://localhost:8080/"
        },
        "id": "fGgUwLDUZ8kr",
        "outputId": "e68dc1e4-4852-4886-be68-9d7fe463f69d"
      },
      "execution_count": 27,
      "outputs": [
        {
          "output_type": "stream",
          "name": "stderr",
          "text": [
            "test_process_payment_success (__main__.PaymentProcessorTests) ... FAIL\n",
            "\n",
            "======================================================================\n",
            "FAIL: test_process_payment_success (__main__.PaymentProcessorTests)\n",
            "----------------------------------------------------------------------\n",
            "Traceback (most recent call last):\n",
            "  File \"<ipython-input-27-043da89f3b23>\", line 12, in test_process_payment_success\n",
            "    self.assertEqual(result.transaction_id, \"\")\n",
            "AssertionError: '12345' != ''\n",
            "- 12345\n",
            "+ \n",
            "\n",
            "\n",
            "----------------------------------------------------------------------\n",
            "Ran 1 test in 0.011s\n",
            "\n",
            "FAILED (failures=1)\n"
          ]
        },
        {
          "output_type": "execute_result",
          "data": {
            "text/plain": [
              "<unittest.main.TestProgram at 0x7c96bc5de290>"
            ]
          },
          "metadata": {},
          "execution_count": 27
        }
      ]
    }
  ]
}